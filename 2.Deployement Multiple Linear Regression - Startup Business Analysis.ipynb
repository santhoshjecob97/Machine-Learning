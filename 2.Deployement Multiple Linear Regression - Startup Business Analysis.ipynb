{
 "cells": [
  {
   "cell_type": "code",
   "execution_count": 1,
   "id": "0c8f02b4-976f-4b89-a037-7ebfa324d120",
   "metadata": {},
   "outputs": [],
   "source": [
    "# Deployemet or Implement the saved final model\n",
    "import pickle"
   ]
  },
  {
   "cell_type": "code",
   "execution_count": 7,
   "id": "54b270a5-d0f9-4a9c-888c-309c041163c9",
   "metadata": {},
   "outputs": [
    {
     "name": "stderr",
     "output_type": "stream",
     "text": [
      "C:\\Anaconda3\\Lib\\site-packages\\sklearn\\base.py:493: UserWarning: X does not have valid feature names, but LinearRegression was fitted with feature names\n",
      "  warnings.warn(\n"
     ]
    }
   ],
   "source": [
    "#Load the final model and give the inputs and get a predicted output - Prediction Input\n",
    "loaded_model=pickle.load(open(\"fianalized_model_multiple_linear_sav\",'rb'))\n",
    "result=loaded_model.predict([[12554,22252,33353,0,1]]) "
   ]
  },
  {
   "cell_type": "code",
   "execution_count": 9,
   "id": "0f5a80fb-0001-429d-b16e-4d88144bd491",
   "metadata": {},
   "outputs": [
    {
     "data": {
      "text/plain": [
       "array([[54343.2570778]])"
      ]
     },
     "execution_count": 9,
     "metadata": {},
     "output_type": "execute_result"
    }
   ],
   "source": [
    "#Predict Output\n",
    "result"
   ]
  },
  {
   "cell_type": "code",
   "execution_count": null,
   "id": "6376fa2d-ed82-4ebc-aab0-97db695949e1",
   "metadata": {},
   "outputs": [],
   "source": []
  }
 ],
 "metadata": {
  "kernelspec": {
   "display_name": "Python [conda env:base] *",
   "language": "python",
   "name": "conda-base-py"
  },
  "language_info": {
   "codemirror_mode": {
    "name": "ipython",
    "version": 3
   },
   "file_extension": ".py",
   "mimetype": "text/x-python",
   "name": "python",
   "nbconvert_exporter": "python",
   "pygments_lexer": "ipython3",
   "version": "3.12.7"
  }
 },
 "nbformat": 4,
 "nbformat_minor": 5
}
